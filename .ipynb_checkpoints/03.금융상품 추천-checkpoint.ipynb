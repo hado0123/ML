{
 "cells": [
  {
   "cell_type": "markdown",
   "id": "912f0bc5-eaa7-4780-96cd-0c2a14d0d04b",
   "metadata": {},
   "source": [
    "### 1. 데이터 가져오기"
   ]
  },
  {
   "cell_type": "code",
   "execution_count": 10,
   "id": "2ce4c76f-adda-416f-9281-7a0810f92808",
   "metadata": {},
   "outputs": [],
   "source": [
    "import pandas as pd\n",
    "import numpy as np\n",
    "from tqdm import tqdm\n",
    "import gc\n",
    "import matplotlib.pyplot as plt\n",
    "import matplotlib.font_manager as fm  # Matplotlib의 폰트 관리 모듈 가져오기\n",
    "\n",
    "# 한글 폰트를 설정하고 그래프에 한글이 깨지지 않도록 환경을 설정하는 코드\n",
    "# 사용할 폰트 파일 경로 설정 (여기서는 맑은고딕 폰트 사용)\n",
    "# font_path = '/usr/share/fonts/truetype/nanum/NanumGothic.ttf'\n",
    "font_path = r'C:\\Windows\\Fonts\\malgun.ttf'\n",
    "\n",
    "# 지정한 폰트 파일에서 폰트 이름 추출 (예: 'NanumGothic')\n",
    "font_name = fm.FontProperties(fname=font_path).get_name()\n",
    "\n",
    "# Matplotlib의 기본 폰트를 추출한 폰트 이름으로 설정\n",
    "plt.rcParams['font.family'] = font_name\n",
    "\n",
    "# 그래프의 기본 폰트 크기를 10으로 설정\n",
    "plt.rcParams['font.size'] = 10\n",
    "\n",
    "# 그래프에서 음수 기호('-')가 유니코드로 깨지는 문제 방지\n",
    "plt.rcParams['axes.unicode_minus'] = False\n"
   ]
  },
  {
   "cell_type": "code",
   "execution_count": 12,
   "id": "454ec8fe-5582-4c82-9f94-7dadfc45e65c",
   "metadata": {},
   "outputs": [],
   "source": [
    "train_product = pd.read_csv('sample_data/data/product.csv', encoding='utf-8') #상품데이터\n",
    "train_actions = pd.read_csv('sample_data/data/action.csv', encoding='euc-kr') #사용자 액션"
   ]
  },
  {
   "cell_type": "code",
   "execution_count": 20,
   "id": "4c973777-84f8-4e00-ab64-6aa701de21ea",
   "metadata": {},
   "outputs": [
    {
     "data": {
      "text/html": [
       "<div>\n",
       "<style scoped>\n",
       "    .dataframe tbody tr th:only-of-type {\n",
       "        vertical-align: middle;\n",
       "    }\n",
       "\n",
       "    .dataframe tbody tr th {\n",
       "        vertical-align: top;\n",
       "    }\n",
       "\n",
       "    .dataframe thead th {\n",
       "        text-align: right;\n",
       "    }\n",
       "</style>\n",
       "<table border=\"1\" class=\"dataframe\">\n",
       "  <thead>\n",
       "    <tr style=\"text-align: right;\">\n",
       "      <th></th>\n",
       "      <th>상품ID</th>\n",
       "      <th>상품명</th>\n",
       "      <th>상품구분</th>\n",
       "    </tr>\n",
       "  </thead>\n",
       "  <tbody>\n",
       "    <tr>\n",
       "      <th>0</th>\n",
       "      <td>1</td>\n",
       "      <td>아이사랑 저축보험</td>\n",
       "      <td>저축|연금</td>\n",
       "    </tr>\n",
       "    <tr>\n",
       "      <th>1</th>\n",
       "      <td>2</td>\n",
       "      <td>실버연금</td>\n",
       "      <td>연금|적립|월지급</td>\n",
       "    </tr>\n",
       "    <tr>\n",
       "      <th>2</th>\n",
       "      <td>3</td>\n",
       "      <td>내집마련저축</td>\n",
       "      <td>저축|적립</td>\n",
       "    </tr>\n",
       "    <tr>\n",
       "      <th>3</th>\n",
       "      <td>4</td>\n",
       "      <td>30일예금</td>\n",
       "      <td>저축|연지급|예금</td>\n",
       "    </tr>\n",
       "    <tr>\n",
       "      <th>4</th>\n",
       "      <td>5</td>\n",
       "      <td>희망미래적금</td>\n",
       "      <td>저축|적립|적금</td>\n",
       "    </tr>\n",
       "  </tbody>\n",
       "</table>\n",
       "</div>"
      ],
      "text/plain": [
       "   상품ID        상품명       상품구분\n",
       "0     1  아이사랑 저축보험      저축|연금\n",
       "1     2       실버연금  연금|적립|월지급\n",
       "2     3     내집마련저축      저축|적립\n",
       "3     4      30일예금  저축|연지급|예금\n",
       "4     5     희망미래적금   저축|적립|적금"
      ]
     },
     "metadata": {},
     "output_type": "display_data"
    },
    {
     "data": {
      "text/plain": [
       "((7, 3), None)"
      ]
     },
     "execution_count": 20,
     "metadata": {},
     "output_type": "execute_result"
    }
   ],
   "source": [
    "train_product.shape, display(train_product.head()) # head(): 상위 몇 개의 행(기본값: 5개)을 반환"
   ]
  },
  {
   "cell_type": "code",
   "execution_count": 25,
   "id": "dbc6e3e2-ab99-4f2a-af1b-222daabfba6c",
   "metadata": {},
   "outputs": [
    {
     "data": {
      "text/html": [
       "<div>\n",
       "<style scoped>\n",
       "    .dataframe tbody tr th:only-of-type {\n",
       "        vertical-align: middle;\n",
       "    }\n",
       "\n",
       "    .dataframe tbody tr th {\n",
       "        vertical-align: top;\n",
       "    }\n",
       "\n",
       "    .dataframe thead th {\n",
       "        text-align: right;\n",
       "    }\n",
       "</style>\n",
       "<table border=\"1\" class=\"dataframe\">\n",
       "  <thead>\n",
       "    <tr style=\"text-align: right;\">\n",
       "      <th></th>\n",
       "      <th>사용자ID</th>\n",
       "      <th>상품ID</th>\n",
       "      <th>추천점수</th>\n",
       "      <th>추천일시</th>\n",
       "    </tr>\n",
       "  </thead>\n",
       "  <tbody>\n",
       "    <tr>\n",
       "      <th>0</th>\n",
       "      <td>1</td>\n",
       "      <td>2</td>\n",
       "      <td>3.5</td>\n",
       "      <td>2005-04-02 23:53:47</td>\n",
       "    </tr>\n",
       "    <tr>\n",
       "      <th>1</th>\n",
       "      <td>1</td>\n",
       "      <td>3</td>\n",
       "      <td>3.5</td>\n",
       "      <td>2005-04-02 23:31:16</td>\n",
       "    </tr>\n",
       "    <tr>\n",
       "      <th>2</th>\n",
       "      <td>1</td>\n",
       "      <td>7</td>\n",
       "      <td>3.5</td>\n",
       "      <td>2005-04-02 23:33:39</td>\n",
       "    </tr>\n",
       "    <tr>\n",
       "      <th>3</th>\n",
       "      <td>2</td>\n",
       "      <td>1</td>\n",
       "      <td>5.0</td>\n",
       "      <td>2000-11-21 15:36:54</td>\n",
       "    </tr>\n",
       "    <tr>\n",
       "      <th>4</th>\n",
       "      <td>2</td>\n",
       "      <td>2</td>\n",
       "      <td>3.0</td>\n",
       "      <td>2000-11-21 15:29:58</td>\n",
       "    </tr>\n",
       "    <tr>\n",
       "      <th>5</th>\n",
       "      <td>2</td>\n",
       "      <td>3</td>\n",
       "      <td>5.0</td>\n",
       "      <td>2000-11-21 15:36:54</td>\n",
       "    </tr>\n",
       "    <tr>\n",
       "      <th>6</th>\n",
       "      <td>2</td>\n",
       "      <td>4</td>\n",
       "      <td>5.0</td>\n",
       "      <td>2000-11-21 15:29:58</td>\n",
       "    </tr>\n",
       "    <tr>\n",
       "      <th>7</th>\n",
       "      <td>2</td>\n",
       "      <td>5</td>\n",
       "      <td>5.0</td>\n",
       "      <td>2000-11-21 15:36:54</td>\n",
       "    </tr>\n",
       "    <tr>\n",
       "      <th>8</th>\n",
       "      <td>2</td>\n",
       "      <td>6</td>\n",
       "      <td>5.0</td>\n",
       "      <td>2000-11-21 15:31:31</td>\n",
       "    </tr>\n",
       "    <tr>\n",
       "      <th>9</th>\n",
       "      <td>2</td>\n",
       "      <td>7</td>\n",
       "      <td>5.0</td>\n",
       "      <td>2000-11-21 15:30:59</td>\n",
       "    </tr>\n",
       "  </tbody>\n",
       "</table>\n",
       "</div>"
      ],
      "text/plain": [
       "   사용자ID  상품ID  추천점수                 추천일시\n",
       "0      1     2   3.5  2005-04-02 23:53:47\n",
       "1      1     3   3.5  2005-04-02 23:31:16\n",
       "2      1     7   3.5  2005-04-02 23:33:39\n",
       "3      2     1   5.0  2000-11-21 15:36:54\n",
       "4      2     2   3.0  2000-11-21 15:29:58\n",
       "5      2     3   5.0  2000-11-21 15:36:54\n",
       "6      2     4   5.0  2000-11-21 15:29:58\n",
       "7      2     5   5.0  2000-11-21 15:36:54\n",
       "8      2     6   5.0  2000-11-21 15:31:31\n",
       "9      2     7   5.0  2000-11-21 15:30:59"
      ]
     },
     "metadata": {},
     "output_type": "display_data"
    },
    {
     "data": {
      "text/plain": [
       "((55, 4), None)"
      ]
     },
     "execution_count": 25,
     "metadata": {},
     "output_type": "execute_result"
    }
   ],
   "source": [
    "train_actions.shape, display(train_actions.head(10))  # head(): 상위 몇 개의 행(기본값: 5개)을 반환"
   ]
  },
  {
   "cell_type": "markdown",
   "id": "ca10b6e1-156f-4a47-8bdf-06c92917d224",
   "metadata": {},
   "source": [
    "### 2. 상품 데이터 살펴보기"
   ]
  },
  {
   "cell_type": "code",
   "execution_count": 28,
   "id": "247bd992-fb61-495f-a172-8147e80530eb",
   "metadata": {},
   "outputs": [
    {
     "data": {
      "text/plain": [
       "상품ID    0\n",
       "상품명     0\n",
       "상품구분    0\n",
       "dtype: int64"
      ]
     },
     "execution_count": 28,
     "metadata": {},
     "output_type": "execute_result"
    }
   ],
   "source": [
    "# 결측치 확인\n",
    "train_product.isnull().sum()"
   ]
  },
  {
   "cell_type": "code",
   "execution_count": 38,
   "id": "949b2d6e-3c4f-448a-bea1-c2c10ffddcca",
   "metadata": {},
   "outputs": [
    {
     "name": "stdout",
     "output_type": "stream",
     "text": [
      "  Product  Price\n",
      "0       A    100\n",
      "1       B    200\n",
      "2       A    100\n",
      "3       C    300\n",
      "4       B    200\n",
      "--------------------------------------------------\n",
      "0    False\n",
      "1    False\n",
      "2     True\n",
      "3    False\n",
      "4     True\n",
      "dtype: bool\n",
      "--------------------------------------------------\n",
      "2\n"
     ]
    }
   ],
   "source": [
    "test = {\n",
    "    'Product': ['A', 'B', 'A', 'C', 'B'],\n",
    "    'Price': [100, 200, 100, 300, 200]\n",
    "}\n",
    "\n",
    "df = pd.DataFrame(test)\n",
    "\n",
    "print(df)\n",
    "print(\"-\" * 50)\n",
    "print(df.duplicated()) # 각 행의 중복을 확인한다\n",
    "print(\"-\" * 50)\n",
    "print(df.duplicated().sum()) # 중복된 행의 개수를 계산"
   ]
  },
  {
   "cell_type": "code",
   "execution_count": 30,
   "id": "8d4cc7bd-e9ca-48c1-8fbd-70310c0e3b7d",
   "metadata": {},
   "outputs": [
    {
     "data": {
      "text/plain": [
       "0"
      ]
     },
     "execution_count": 30,
     "metadata": {},
     "output_type": "execute_result"
    }
   ],
   "source": [
    "# 중복 확인\n",
    "train_product.duplicated().sum()"
   ]
  },
  {
   "cell_type": "code",
   "execution_count": 46,
   "id": "f90ec71e-a675-4b35-9218-a96fa895d6e9",
   "metadata": {},
   "outputs": [
    {
     "data": {
      "text/plain": [
       "상품구분\n",
       "저축|적립|적금     2\n",
       "저축|연금        1\n",
       "연금|적립|월지급    1\n",
       "저축|적립        1\n",
       "Name: count, dtype: int64"
      ]
     },
     "execution_count": 46,
     "metadata": {},
     "output_type": "execute_result"
    }
   ],
   "source": [
    "# 상품구분 Top4 확인\n",
    "top_product_type = train_product['상품구분'].value_counts().head(4)\n",
    "top_product_type"
   ]
  },
  {
   "cell_type": "code",
   "execution_count": 54,
   "id": "5dd82404-c7fa-4ea8-83e5-1e51ac3e6d71",
   "metadata": {},
   "outputs": [
    {
     "data": {
      "image/png": "[encoded data removed]",
      "text/plain": [
       "<Figure size 300x300 with 1 Axes>"
      ]
     },
     "metadata": {},
     "output_type": "display_data"
    }
   ],
   "source": [
    "# 원으로 상품구분의 최다 갯수 3개를 그려본다.\n",
    "plt.figure(figsize=(3, 3)) # 그래프의 크기(단위는 inch) => 가로:3인치, 세로 3인치\n",
    "\n",
    "\"\"\"\n",
    "파이 차트를 생성하는 함수\n",
    "\n",
    "x=top_product_type.values: 각 파이 조각의 크기를 결정하는 값(데이터).\n",
    "\n",
    "labels=top_product_type.index: 각 파이 조각에 표시될 레이블.\n",
    "\n",
    "autopct='%1.1f%%': 파이 조각 위에 표시할 퍼센트 포맷.\n",
    "%1.1f%%는 소수점 1자리까지 퍼센트를 표시\n",
    "\"\"\"\n",
    "plt.pie(top_product_type.values, labels=top_product_type.index, autopct='%1.1f%%')\n",
    "plt.title('상품구분 Top4')\n",
    "plt.show()"
   ]
  },
  {
   "cell_type": "code",
   "execution_count": null,
   "id": "c158f9d6-49c3-4422-8ab4-2c0af3186a83",
   "metadata": {},
   "outputs": [],
   "source": []
  }
 ],
 "metadata": {
  "kernelspec": {
   "display_name": "Python 3 (ipykernel)",
   "language": "python",
   "name": "python3"
  },
  "language_info": {
   "codemirror_mode": {
    "name": "ipython",
    "version": 3
   },
   "file_extension": ".py",
   "mimetype": "text/x-python",
   "name": "python",
   "nbconvert_exporter": "python",
   "pygments_lexer": "ipython3",
   "version": "3.12.4"
  }
 },
 "nbformat": 4,
 "nbformat_minor": 5
}
